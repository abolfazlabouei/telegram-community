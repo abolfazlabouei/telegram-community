{
 "cells": [
  {
   "cell_type": "code",
   "execution_count": 1,
   "metadata": {},
   "outputs": [
    {
     "name": "stdout",
     "output_type": "stream",
     "text": [
      "Loading converters...\n",
      "Loading persian word list...\n",
      "Loading dictionary...\n"
     ]
    }
   ],
   "source": [
    "import networkx as nx\n",
    "import pandas as pd\n",
    "import numpy as np\n",
    "import matplotlib.pyplot as plt\n",
    "from finglish import f2p"
   ]
  },
  {
   "cell_type": "markdown",
   "metadata": {},
   "source": [
    "## load subtacts.csv and subscription3.csv "
   ]
  },
  {
   "cell_type": "markdown",
   "metadata": {},
   "source": [
    "#### load subtact and assin header "
   ]
  },
  {
   "cell_type": "code",
   "execution_count": 2,
   "metadata": {},
   "outputs": [],
   "source": [
    "subtacts = pd.read_csv(\"subtacts.csv\", names=[\"user_id\",'group_id',\"post\"])"
   ]
  },
  {
   "cell_type": "code",
   "execution_count": 3,
   "metadata": {},
   "outputs": [],
   "source": [
    "subtacts.to_csv(\"msubtacts.csv\", index=False)"
   ]
  },
  {
   "cell_type": "code",
   "execution_count": 4,
   "metadata": {},
   "outputs": [],
   "source": [
    "msubtacts = pd.read_csv(\"msubtacts.csv\")"
   ]
  },
  {
   "cell_type": "code",
   "execution_count": 5,
   "metadata": {},
   "outputs": [
    {
     "data": {
      "text/html": [
       "<div>\n",
       "<style scoped>\n",
       "    .dataframe tbody tr th:only-of-type {\n",
       "        vertical-align: middle;\n",
       "    }\n",
       "\n",
       "    .dataframe tbody tr th {\n",
       "        vertical-align: top;\n",
       "    }\n",
       "\n",
       "    .dataframe thead th {\n",
       "        text-align: right;\n",
       "    }\n",
       "</style>\n",
       "<table border=\"1\" class=\"dataframe\">\n",
       "  <thead>\n",
       "    <tr style=\"text-align: right;\">\n",
       "      <th></th>\n",
       "      <th>user_id</th>\n",
       "      <th>group_id</th>\n",
       "      <th>post</th>\n",
       "    </tr>\n",
       "  </thead>\n",
       "  <tbody>\n",
       "    <tr>\n",
       "      <th>0</th>\n",
       "      <td>806465768</td>\n",
       "      <td>1214462642</td>\n",
       "      <td>ADMIN</td>\n",
       "    </tr>\n",
       "    <tr>\n",
       "      <th>1</th>\n",
       "      <td>806465768</td>\n",
       "      <td>1427140891</td>\n",
       "      <td>ADMIN</td>\n",
       "    </tr>\n",
       "    <tr>\n",
       "      <th>2</th>\n",
       "      <td>96821350</td>\n",
       "      <td>1086836533</td>\n",
       "      <td>FORMER_MEMBER</td>\n",
       "    </tr>\n",
       "    <tr>\n",
       "      <th>3</th>\n",
       "      <td>96821350</td>\n",
       "      <td>1149082499</td>\n",
       "      <td>FORMER_MEMBER</td>\n",
       "    </tr>\n",
       "    <tr>\n",
       "      <th>4</th>\n",
       "      <td>96821350</td>\n",
       "      <td>1363005718</td>\n",
       "      <td>CURRENT_MEMBER</td>\n",
       "    </tr>\n",
       "    <tr>\n",
       "      <th>...</th>\n",
       "      <td>...</td>\n",
       "      <td>...</td>\n",
       "      <td>...</td>\n",
       "    </tr>\n",
       "    <tr>\n",
       "      <th>685611</th>\n",
       "      <td>451603133</td>\n",
       "      <td>1135139610</td>\n",
       "      <td>CURRENT_MEMBER</td>\n",
       "    </tr>\n",
       "    <tr>\n",
       "      <th>685612</th>\n",
       "      <td>451603133</td>\n",
       "      <td>1376902893</td>\n",
       "      <td>FORMER_MEMBER</td>\n",
       "    </tr>\n",
       "    <tr>\n",
       "      <th>685613</th>\n",
       "      <td>433321059</td>\n",
       "      <td>1139143344</td>\n",
       "      <td>FORMER_MEMBER</td>\n",
       "    </tr>\n",
       "    <tr>\n",
       "      <th>685614</th>\n",
       "      <td>433321059</td>\n",
       "      <td>1146690784</td>\n",
       "      <td>FORMER_MEMBER</td>\n",
       "    </tr>\n",
       "    <tr>\n",
       "      <th>685615</th>\n",
       "      <td>433321059</td>\n",
       "      <td>1168877387</td>\n",
       "      <td>CURRENT_MEMBER</td>\n",
       "    </tr>\n",
       "  </tbody>\n",
       "</table>\n",
       "<p>685616 rows × 3 columns</p>\n",
       "</div>"
      ],
      "text/plain": [
       "          user_id    group_id            post\n",
       "0       806465768  1214462642           ADMIN\n",
       "1       806465768  1427140891           ADMIN\n",
       "2        96821350  1086836533   FORMER_MEMBER\n",
       "3        96821350  1149082499   FORMER_MEMBER\n",
       "4        96821350  1363005718  CURRENT_MEMBER\n",
       "...           ...         ...             ...\n",
       "685611  451603133  1135139610  CURRENT_MEMBER\n",
       "685612  451603133  1376902893   FORMER_MEMBER\n",
       "685613  433321059  1139143344   FORMER_MEMBER\n",
       "685614  433321059  1146690784   FORMER_MEMBER\n",
       "685615  433321059  1168877387  CURRENT_MEMBER\n",
       "\n",
       "[685616 rows x 3 columns]"
      ]
     },
     "execution_count": 5,
     "metadata": {},
     "output_type": "execute_result"
    }
   ],
   "source": [
    "msubtacts"
   ]
  },
  {
   "cell_type": "markdown",
   "metadata": {},
   "source": [
    "#### load subscription3 and assin header "
   ]
  },
  {
   "cell_type": "code",
   "execution_count": 6,
   "metadata": {},
   "outputs": [
    {
     "name": "stderr",
     "output_type": "stream",
     "text": [
      "/var/folders/7y/lh6z9mgj7w190j6vw0pfrdbm0000gn/T/ipykernel_6177/1195820121.py:1: ParserWarning: Falling back to the 'python' engine because the 'c' engine does not support regex separators (separators > 1 char and different from '\\s+' are interpreted as regex); you can avoid this warning by specifying engine='python'.\n",
      "  subscriptions3 = pd.read_csv(\"subscriptions3.csv\", encoding='utf-8', delimiter=\"#DELIMITER#\", header=None)\n"
     ]
    }
   ],
   "source": [
    "subscriptions3 = pd.read_csv(\"subscriptions3.csv\", encoding='utf-8', delimiter=\"#DELIMITER#\", header=None)\n",
    "subscriptions3.columns=['group_id', \"peer_name\",\"about\"]\n",
    "subscriptions3['group_id'] = subscriptions3['group_id'].astype(str).str.replace('-', '')"
   ]
  },
  {
   "cell_type": "code",
   "execution_count": 7,
   "metadata": {},
   "outputs": [
    {
     "data": {
      "text/html": [
       "<div>\n",
       "<style scoped>\n",
       "    .dataframe tbody tr th:only-of-type {\n",
       "        vertical-align: middle;\n",
       "    }\n",
       "\n",
       "    .dataframe tbody tr th {\n",
       "        vertical-align: top;\n",
       "    }\n",
       "\n",
       "    .dataframe thead th {\n",
       "        text-align: right;\n",
       "    }\n",
       "</style>\n",
       "<table border=\"1\" class=\"dataframe\">\n",
       "  <thead>\n",
       "    <tr style=\"text-align: right;\">\n",
       "      <th></th>\n",
       "      <th>group_id</th>\n",
       "      <th>peer_name</th>\n",
       "      <th>about</th>\n",
       "    </tr>\n",
       "  </thead>\n",
       "  <tbody>\n",
       "    <tr>\n",
       "      <th>0</th>\n",
       "      <td>2078972966</td>\n",
       "      <td>آموزش مهارت های ارتباطی</td>\n",
       "      <td>سلام .من علیرضا کرمی هستم  مربی و مدرس دوره‌ها...</td>\n",
       "    </tr>\n",
       "    <tr>\n",
       "      <th>1</th>\n",
       "      <td>2041783709</td>\n",
       "      <td>مستر کنکور 97(استادمددی)</td>\n",
       "      <td>? آقای خاص مشاوره و برنامه ریزی کنکور ? ?مبتکر...</td>\n",
       "    </tr>\n",
       "    <tr>\n",
       "      <th>2</th>\n",
       "      <td>1876162099</td>\n",
       "      <td>ناصر خان حجازی</td>\n",
       "      <td>تنها کانال فعال تلگرامي یادبودناصرخان حجازی✌✋ ...</td>\n",
       "    </tr>\n",
       "    <tr>\n",
       "      <th>3</th>\n",
       "      <td>1854882373</td>\n",
       "      <td>Pishgoo</td>\n",
       "      <td>? فال☕دعا\\#طلسم\\# کارت\\#جزوه\\#دعا طلسم\\#مهره م...</td>\n",
       "    </tr>\n",
       "    <tr>\n",
       "      <th>4</th>\n",
       "      <td>1523892810</td>\n",
       "      <td>بازارچه ملکان</td>\n",
       "      <td>?سیمساری آنلاین ملکان?                        ...</td>\n",
       "    </tr>\n",
       "    <tr>\n",
       "      <th>...</th>\n",
       "      <td>...</td>\n",
       "      <td>...</td>\n",
       "      <td>...</td>\n",
       "    </tr>\n",
       "    <tr>\n",
       "      <th>29430</th>\n",
       "      <td>1799454871</td>\n",
       "      <td>????تورک های جذاب لعنتی????</td>\n",
       "      <td>??گپ تورک های جذاب لعنتی???  ??تورک های ارومیه...</td>\n",
       "    </tr>\n",
       "    <tr>\n",
       "      <th>29431</th>\n",
       "      <td>1799507214</td>\n",
       "      <td>、ARIEL</td>\n",
       "      <td>˓ ??????? ?? ????? ??????? ˒                20...</td>\n",
       "    </tr>\n",
       "    <tr>\n",
       "      <th>29432</th>\n",
       "      <td>1799541728</td>\n",
       "      <td>金龙社区（免费查合约）</td>\n",
       "      <td>进群福利免费查bsc合约！</td>\n",
       "    </tr>\n",
       "    <tr>\n",
       "      <th>29433</th>\n",
       "      <td>1799590600</td>\n",
       "      <td>???? ?????</td>\n",
       "      <td>\"Hi ass-kisser @durov,i swear that this channe...</td>\n",
       "    </tr>\n",
       "    <tr>\n",
       "      <th>29434</th>\n",
       "      <td>1799725737</td>\n",
       "      <td>??ٌٍٍٍٍٍٍٜٜٜٜٜٜٜٜٜٜٜٜٜٜٜٜٜٜٜٜٜٜٜٜٜٜٜٜۘۘۘۘ͜͡⚘͜͡...</td>\n",
       "      <td>خوش آمدید به   \\#ابر  \\#گپ   \\#طهران   \\#کرج  ...</td>\n",
       "    </tr>\n",
       "  </tbody>\n",
       "</table>\n",
       "<p>29435 rows × 3 columns</p>\n",
       "</div>"
      ],
      "text/plain": [
       "         group_id                                          peer_name  \\\n",
       "0      2078972966                            آموزش مهارت های ارتباطی   \n",
       "1      2041783709                           مستر کنکور 97(استادمددی)   \n",
       "2      1876162099                                     ناصر خان حجازی   \n",
       "3      1854882373                                            Pishgoo   \n",
       "4      1523892810                                      بازارچه ملکان   \n",
       "...           ...                                                ...   \n",
       "29430  1799454871                        ????تورک های جذاب لعنتی????   \n",
       "29431  1799507214                                             、ARIEL   \n",
       "29432  1799541728                                        金龙社区（免费查合约）   \n",
       "29433  1799590600                                         ???? ?????   \n",
       "29434  1799725737  ??ٌٍٍٍٍٍٍٜٜٜٜٜٜٜٜٜٜٜٜٜٜٜٜٜٜٜٜٜٜٜٜٜٜٜٜۘۘۘۘ͜͡⚘͜͡...   \n",
       "\n",
       "                                                   about  \n",
       "0      سلام .من علیرضا کرمی هستم  مربی و مدرس دوره‌ها...  \n",
       "1      ? آقای خاص مشاوره و برنامه ریزی کنکور ? ?مبتکر...  \n",
       "2      تنها کانال فعال تلگرامي یادبودناصرخان حجازی✌✋ ...  \n",
       "3      ? فال☕دعا\\#طلسم\\# کارت\\#جزوه\\#دعا طلسم\\#مهره م...  \n",
       "4      ?سیمساری آنلاین ملکان?                        ...  \n",
       "...                                                  ...  \n",
       "29430  ??گپ تورک های جذاب لعنتی???  ??تورک های ارومیه...  \n",
       "29431  ˓ ??????? ?? ????? ??????? ˒                20...  \n",
       "29432                                      进群福利免费查bsc合约！  \n",
       "29433  \"Hi ass-kisser @durov,i swear that this channe...  \n",
       "29434  خوش آمدید به   \\#ابر  \\#گپ   \\#طهران   \\#کرج  ...  \n",
       "\n",
       "[29435 rows x 3 columns]"
      ]
     },
     "execution_count": 7,
     "metadata": {},
     "output_type": "execute_result"
    }
   ],
   "source": [
    "subscriptions3"
   ]
  },
  {
   "cell_type": "code",
   "execution_count": 8,
   "metadata": {},
   "outputs": [
    {
     "data": {
      "text/plain": [
       "user_id      int64\n",
       "group_id     int64\n",
       "post        object\n",
       "dtype: object"
      ]
     },
     "execution_count": 8,
     "metadata": {},
     "output_type": "execute_result"
    }
   ],
   "source": [
    "msubtacts.dtypes"
   ]
  },
  {
   "cell_type": "code",
   "execution_count": 9,
   "metadata": {},
   "outputs": [],
   "source": [
    "convert_dict = {'group_id': int,\n",
    "                }"
   ]
  },
  {
   "cell_type": "code",
   "execution_count": 10,
   "metadata": {},
   "outputs": [],
   "source": [
    "subscriptions3 = subscriptions3.astype(convert_dict)"
   ]
  },
  {
   "cell_type": "code",
   "execution_count": 11,
   "metadata": {},
   "outputs": [],
   "source": [
    "merged_df = subscriptions3.merge(msubtacts, on=\"group_id\", how='inner')"
   ]
  },
  {
   "cell_type": "code",
   "execution_count": 12,
   "metadata": {},
   "outputs": [
    {
     "data": {
      "text/html": [
       "<div>\n",
       "<style scoped>\n",
       "    .dataframe tbody tr th:only-of-type {\n",
       "        vertical-align: middle;\n",
       "    }\n",
       "\n",
       "    .dataframe tbody tr th {\n",
       "        vertical-align: top;\n",
       "    }\n",
       "\n",
       "    .dataframe thead th {\n",
       "        text-align: right;\n",
       "    }\n",
       "</style>\n",
       "<table border=\"1\" class=\"dataframe\">\n",
       "  <thead>\n",
       "    <tr style=\"text-align: right;\">\n",
       "      <th></th>\n",
       "      <th>group_id</th>\n",
       "      <th>peer_name</th>\n",
       "      <th>about</th>\n",
       "      <th>user_id</th>\n",
       "      <th>post</th>\n",
       "    </tr>\n",
       "  </thead>\n",
       "  <tbody>\n",
       "    <tr>\n",
       "      <th>0</th>\n",
       "      <td>1000006831</td>\n",
       "      <td>روزنامه وقایع استان</td>\n",
       "      <td>?روزنامه صبح\"وقایع استان\"مرجع رسمی اخبار استان...</td>\n",
       "      <td>173318782</td>\n",
       "      <td>CHANNEL_EXTRACTRD_ADMIN</td>\n",
       "    </tr>\n",
       "    <tr>\n",
       "      <th>1</th>\n",
       "      <td>1000027505</td>\n",
       "      <td>Cheet Bazi</td>\n",
       "      <td>All the content of the channel is sent solely ...</td>\n",
       "      <td>541239771</td>\n",
       "      <td>CURRENT_MEMBER</td>\n",
       "    </tr>\n",
       "    <tr>\n",
       "      <th>2</th>\n",
       "      <td>1000039922</td>\n",
       "      <td>میلیتــــــــــاریسمـ</td>\n",
       "      <td>لینک گروه https://t.me/joinchat/KSVK9-_7yyI2OW...</td>\n",
       "      <td>362541001</td>\n",
       "      <td>CHANNEL_MEMBER</td>\n",
       "    </tr>\n",
       "    <tr>\n",
       "      <th>3</th>\n",
       "      <td>1000157416</td>\n",
       "      <td>EdonTools ( ابزارآلات ادون تولز)</td>\n",
       "      <td>مرکز پخش ابزارآلات ادونEDON   صنعتی،کشاورزی و ...</td>\n",
       "      <td>119944726</td>\n",
       "      <td>CHANNEL_EXTRACTRD_ADMIN</td>\n",
       "    </tr>\n",
       "    <tr>\n",
       "      <th>4</th>\n",
       "      <td>1000170429</td>\n",
       "      <td>KHAMENEI.IR</td>\n",
       "      <td>پايگاه اطلاع رسانی دفترحفظ و نشر آثار حضرت آیت...</td>\n",
       "      <td>152638140</td>\n",
       "      <td>CHANNEL_MEMBER</td>\n",
       "    </tr>\n",
       "    <tr>\n",
       "      <th>...</th>\n",
       "      <td>...</td>\n",
       "      <td>...</td>\n",
       "      <td>...</td>\n",
       "      <td>...</td>\n",
       "      <td>...</td>\n",
       "    </tr>\n",
       "    <tr>\n",
       "      <th>685605</th>\n",
       "      <td>1799725737</td>\n",
       "      <td>??ٌٍٍٍٍٍٍٜٜٜٜٜٜٜٜٜٜٜٜٜٜٜٜٜٜٜٜٜٜٜٜٜٜٜٜۘۘۘۘ͜͡⚘͜͡...</td>\n",
       "      <td>خوش آمدید به   \\#ابر  \\#گپ   \\#طهران   \\#کرج  ...</td>\n",
       "      <td>1194817985</td>\n",
       "      <td>CURRENT_MEMBER</td>\n",
       "    </tr>\n",
       "    <tr>\n",
       "      <th>685606</th>\n",
       "      <td>1799725737</td>\n",
       "      <td>??ٌٍٍٍٍٍٍٜٜٜٜٜٜٜٜٜٜٜٜٜٜٜٜٜٜٜٜٜٜٜٜٜٜٜٜۘۘۘۘ͜͡⚘͜͡...</td>\n",
       "      <td>خوش آمدید به   \\#ابر  \\#گپ   \\#طهران   \\#کرج  ...</td>\n",
       "      <td>1444812492</td>\n",
       "      <td>CURRENT_MEMBER</td>\n",
       "    </tr>\n",
       "    <tr>\n",
       "      <th>685607</th>\n",
       "      <td>1799725737</td>\n",
       "      <td>??ٌٍٍٍٍٍٍٜٜٜٜٜٜٜٜٜٜٜٜٜٜٜٜٜٜٜٜٜٜٜٜٜٜٜٜۘۘۘۘ͜͡⚘͜͡...</td>\n",
       "      <td>خوش آمدید به   \\#ابر  \\#گپ   \\#طهران   \\#کرج  ...</td>\n",
       "      <td>1771289551</td>\n",
       "      <td>CURRENT_MEMBER</td>\n",
       "    </tr>\n",
       "    <tr>\n",
       "      <th>685608</th>\n",
       "      <td>1799725737</td>\n",
       "      <td>??ٌٍٍٍٍٍٍٜٜٜٜٜٜٜٜٜٜٜٜٜٜٜٜٜٜٜٜٜٜٜٜٜٜٜٜۘۘۘۘ͜͡⚘͜͡...</td>\n",
       "      <td>خوش آمدید به   \\#ابر  \\#گپ   \\#طهران   \\#کرج  ...</td>\n",
       "      <td>1503314367</td>\n",
       "      <td>CURRENT_MEMBER</td>\n",
       "    </tr>\n",
       "    <tr>\n",
       "      <th>685609</th>\n",
       "      <td>1799725737</td>\n",
       "      <td>??ٌٍٍٍٍٍٍٜٜٜٜٜٜٜٜٜٜٜٜٜٜٜٜٜٜٜٜٜٜٜٜٜٜٜٜۘۘۘۘ͜͡⚘͜͡...</td>\n",
       "      <td>خوش آمدید به   \\#ابر  \\#گپ   \\#طهران   \\#کرج  ...</td>\n",
       "      <td>542906195</td>\n",
       "      <td>CURRENT_MEMBER</td>\n",
       "    </tr>\n",
       "  </tbody>\n",
       "</table>\n",
       "<p>685610 rows × 5 columns</p>\n",
       "</div>"
      ],
      "text/plain": [
       "          group_id                                          peer_name  \\\n",
       "0       1000006831                                روزنامه وقایع استان   \n",
       "1       1000027505                                         Cheet Bazi   \n",
       "2       1000039922                              میلیتــــــــــاریسمـ   \n",
       "3       1000157416                   EdonTools ( ابزارآلات ادون تولز)   \n",
       "4       1000170429                                        KHAMENEI.IR   \n",
       "...            ...                                                ...   \n",
       "685605  1799725737  ??ٌٍٍٍٍٍٍٜٜٜٜٜٜٜٜٜٜٜٜٜٜٜٜٜٜٜٜٜٜٜٜٜٜٜٜۘۘۘۘ͜͡⚘͜͡...   \n",
       "685606  1799725737  ??ٌٍٍٍٍٍٍٜٜٜٜٜٜٜٜٜٜٜٜٜٜٜٜٜٜٜٜٜٜٜٜٜٜٜٜۘۘۘۘ͜͡⚘͜͡...   \n",
       "685607  1799725737  ??ٌٍٍٍٍٍٍٜٜٜٜٜٜٜٜٜٜٜٜٜٜٜٜٜٜٜٜٜٜٜٜٜٜٜٜۘۘۘۘ͜͡⚘͜͡...   \n",
       "685608  1799725737  ??ٌٍٍٍٍٍٍٜٜٜٜٜٜٜٜٜٜٜٜٜٜٜٜٜٜٜٜٜٜٜٜٜٜٜٜۘۘۘۘ͜͡⚘͜͡...   \n",
       "685609  1799725737  ??ٌٍٍٍٍٍٍٜٜٜٜٜٜٜٜٜٜٜٜٜٜٜٜٜٜٜٜٜٜٜٜٜٜٜٜۘۘۘۘ͜͡⚘͜͡...   \n",
       "\n",
       "                                                    about     user_id  \\\n",
       "0       ?روزنامه صبح\"وقایع استان\"مرجع رسمی اخبار استان...   173318782   \n",
       "1       All the content of the channel is sent solely ...   541239771   \n",
       "2       لینک گروه https://t.me/joinchat/KSVK9-_7yyI2OW...   362541001   \n",
       "3       مرکز پخش ابزارآلات ادونEDON   صنعتی،کشاورزی و ...   119944726   \n",
       "4       پايگاه اطلاع رسانی دفترحفظ و نشر آثار حضرت آیت...   152638140   \n",
       "...                                                   ...         ...   \n",
       "685605  خوش آمدید به   \\#ابر  \\#گپ   \\#طهران   \\#کرج  ...  1194817985   \n",
       "685606  خوش آمدید به   \\#ابر  \\#گپ   \\#طهران   \\#کرج  ...  1444812492   \n",
       "685607  خوش آمدید به   \\#ابر  \\#گپ   \\#طهران   \\#کرج  ...  1771289551   \n",
       "685608  خوش آمدید به   \\#ابر  \\#گپ   \\#طهران   \\#کرج  ...  1503314367   \n",
       "685609  خوش آمدید به   \\#ابر  \\#گپ   \\#طهران   \\#کرج  ...   542906195   \n",
       "\n",
       "                           post  \n",
       "0       CHANNEL_EXTRACTRD_ADMIN  \n",
       "1                CURRENT_MEMBER  \n",
       "2                CHANNEL_MEMBER  \n",
       "3       CHANNEL_EXTRACTRD_ADMIN  \n",
       "4                CHANNEL_MEMBER  \n",
       "...                         ...  \n",
       "685605           CURRENT_MEMBER  \n",
       "685606           CURRENT_MEMBER  \n",
       "685607           CURRENT_MEMBER  \n",
       "685608           CURRENT_MEMBER  \n",
       "685609           CURRENT_MEMBER  \n",
       "\n",
       "[685610 rows x 5 columns]"
      ]
     },
     "execution_count": 12,
     "metadata": {},
     "output_type": "execute_result"
    }
   ],
   "source": [
    "merged_df"
   ]
  },
  {
   "cell_type": "code",
   "execution_count": null,
   "metadata": {},
   "outputs": [],
   "source": []
  },
  {
   "cell_type": "code",
   "execution_count": 13,
   "metadata": {},
   "outputs": [
    {
     "name": "stderr",
     "output_type": "stream",
     "text": [
      "/var/folders/7y/lh6z9mgj7w190j6vw0pfrdbm0000gn/T/ipykernel_6177/3869576289.py:1: FutureWarning: The default value of regex will change from True to False in a future version. In addition, single character regular expressions will *not* be treated as literal strings when regex=True.\n",
      "  merged_df['peer_name'] = merged_df['peer_name'].str.replace('?', '')\n",
      "/var/folders/7y/lh6z9mgj7w190j6vw0pfrdbm0000gn/T/ipykernel_6177/3869576289.py:2: FutureWarning: The default value of regex will change from True to False in a future version. In addition, single character regular expressions will *not* be treated as literal strings when regex=True.\n",
      "  merged_df['about'] = merged_df['about'].str.replace('?', '')\n",
      "/var/folders/7y/lh6z9mgj7w190j6vw0pfrdbm0000gn/T/ipykernel_6177/3869576289.py:5: FutureWarning: The default value of regex will change from True to False in a future version. In addition, single character regular expressions will *not* be treated as literal strings when regex=True.\n",
      "  merged_df['peer_name'] = merged_df['peer_name'].str.replace(\"\\\\\",\"\")\n",
      "/var/folders/7y/lh6z9mgj7w190j6vw0pfrdbm0000gn/T/ipykernel_6177/3869576289.py:6: FutureWarning: The default value of regex will change from True to False in a future version. In addition, single character regular expressions will *not* be treated as literal strings when regex=True.\n",
      "  merged_df['about'] = merged_df['about'].str.replace('\\\\', '')\n"
     ]
    }
   ],
   "source": [
    "merged_df['peer_name'] = merged_df['peer_name'].str.replace('?', '')\n",
    "merged_df['about'] = merged_df['about'].str.replace('?', '')\n",
    "merged_df['peer_name'] = merged_df['peer_name'].str.replace('#', '')\n",
    "merged_df['about'] = merged_df['about'].str.replace('#', '')\n",
    "merged_df['peer_name'] = merged_df['peer_name'].str.replace(\"\\\\\",\"\")\n",
    "merged_df['about'] = merged_df['about'].str.replace('\\\\', '')"
   ]
  },
  {
   "cell_type": "code",
   "execution_count": 14,
   "metadata": {},
   "outputs": [],
   "source": [
    "merged_df.to_csv(\"merged_df.csv\", index=False)"
   ]
  },
  {
   "cell_type": "code",
   "execution_count": 15,
   "metadata": {},
   "outputs": [],
   "source": [
    "sub_merged = merged_df.iloc[:100]"
   ]
  },
  {
   "cell_type": "code",
   "execution_count": 16,
   "metadata": {},
   "outputs": [
    {
     "data": {
      "text/html": [
       "<div>\n",
       "<style scoped>\n",
       "    .dataframe tbody tr th:only-of-type {\n",
       "        vertical-align: middle;\n",
       "    }\n",
       "\n",
       "    .dataframe tbody tr th {\n",
       "        vertical-align: top;\n",
       "    }\n",
       "\n",
       "    .dataframe thead th {\n",
       "        text-align: right;\n",
       "    }\n",
       "</style>\n",
       "<table border=\"1\" class=\"dataframe\">\n",
       "  <thead>\n",
       "    <tr style=\"text-align: right;\">\n",
       "      <th></th>\n",
       "      <th>group_id</th>\n",
       "      <th>peer_name</th>\n",
       "      <th>about</th>\n",
       "      <th>user_id</th>\n",
       "      <th>post</th>\n",
       "    </tr>\n",
       "  </thead>\n",
       "  <tbody>\n",
       "    <tr>\n",
       "      <th>0</th>\n",
       "      <td>1000006831</td>\n",
       "      <td>روزنامه وقایع استان</td>\n",
       "      <td>روزنامه صبح\"وقایع استان\"مرجع رسمی اخبار استان ...</td>\n",
       "      <td>173318782</td>\n",
       "      <td>CHANNEL_EXTRACTRD_ADMIN</td>\n",
       "    </tr>\n",
       "    <tr>\n",
       "      <th>1</th>\n",
       "      <td>1000027505</td>\n",
       "      <td>Cheet Bazi</td>\n",
       "      <td>All the content of the channel is sent solely ...</td>\n",
       "      <td>541239771</td>\n",
       "      <td>CURRENT_MEMBER</td>\n",
       "    </tr>\n",
       "    <tr>\n",
       "      <th>2</th>\n",
       "      <td>1000039922</td>\n",
       "      <td>میلیتــــــــــاریسمـ</td>\n",
       "      <td>لینک گروه https://t.me/joinchat/KSVK9-_7yyI2OW...</td>\n",
       "      <td>362541001</td>\n",
       "      <td>CHANNEL_MEMBER</td>\n",
       "    </tr>\n",
       "    <tr>\n",
       "      <th>3</th>\n",
       "      <td>1000157416</td>\n",
       "      <td>EdonTools ( ابزارآلات ادون تولز)</td>\n",
       "      <td>مرکز پخش ابزارآلات ادونEDON   صنعتی،کشاورزی و ...</td>\n",
       "      <td>119944726</td>\n",
       "      <td>CHANNEL_EXTRACTRD_ADMIN</td>\n",
       "    </tr>\n",
       "    <tr>\n",
       "      <th>4</th>\n",
       "      <td>1000170429</td>\n",
       "      <td>KHAMENEI.IR</td>\n",
       "      <td>پايگاه اطلاع رسانی دفترحفظ و نشر آثار حضرت آیت...</td>\n",
       "      <td>152638140</td>\n",
       "      <td>CHANNEL_MEMBER</td>\n",
       "    </tr>\n",
       "    <tr>\n",
       "      <th>...</th>\n",
       "      <td>...</td>\n",
       "      <td>...</td>\n",
       "      <td>...</td>\n",
       "      <td>...</td>\n",
       "      <td>...</td>\n",
       "    </tr>\n",
       "    <tr>\n",
       "      <th>95</th>\n",
       "      <td>1000465663</td>\n",
       "      <td>درمانهای طبیعی</td>\n",
       "      <td>اساتید گروه:   سرابی، و کشاورز -ناباروری و ناز...</td>\n",
       "      <td>456371040</td>\n",
       "      <td>CURRENT_MEMBER</td>\n",
       "    </tr>\n",
       "    <tr>\n",
       "      <th>96</th>\n",
       "      <td>1000465663</td>\n",
       "      <td>درمانهای طبیعی</td>\n",
       "      <td>اساتید گروه:   سرابی، و کشاورز -ناباروری و ناز...</td>\n",
       "      <td>111914681</td>\n",
       "      <td>CURRENT_MEMBER</td>\n",
       "    </tr>\n",
       "    <tr>\n",
       "      <th>97</th>\n",
       "      <td>1000467088</td>\n",
       "      <td>پارچه رادمرد</td>\n",
       "      <td>پارچه رادمرد عرضه کننده جدیدترین پارچه های مجل...</td>\n",
       "      <td>462105171</td>\n",
       "      <td>CHANNEL_EXTRACTRD_ADMIN</td>\n",
       "    </tr>\n",
       "    <tr>\n",
       "      <th>98</th>\n",
       "      <td>1000470102</td>\n",
       "      <td>ENGLISH TRAINING GROUP (RM)</td>\n",
       "      <td>Our GROUP LINK    https://t.me/joinchat/DeF5xj...</td>\n",
       "      <td>166581229</td>\n",
       "      <td>CURRENT_MEMBER</td>\n",
       "    </tr>\n",
       "    <tr>\n",
       "      <th>99</th>\n",
       "      <td>1000470102</td>\n",
       "      <td>ENGLISH TRAINING GROUP (RM)</td>\n",
       "      <td>Our GROUP LINK    https://t.me/joinchat/DeF5xj...</td>\n",
       "      <td>628989972</td>\n",
       "      <td>CURRENT_MEMBER</td>\n",
       "    </tr>\n",
       "  </tbody>\n",
       "</table>\n",
       "<p>100 rows × 5 columns</p>\n",
       "</div>"
      ],
      "text/plain": [
       "      group_id                         peer_name  \\\n",
       "0   1000006831               روزنامه وقایع استان   \n",
       "1   1000027505                        Cheet Bazi   \n",
       "2   1000039922             میلیتــــــــــاریسمـ   \n",
       "3   1000157416  EdonTools ( ابزارآلات ادون تولز)   \n",
       "4   1000170429                       KHAMENEI.IR   \n",
       "..         ...                               ...   \n",
       "95  1000465663                    درمانهای طبیعی   \n",
       "96  1000465663                    درمانهای طبیعی   \n",
       "97  1000467088                      پارچه رادمرد   \n",
       "98  1000470102       ENGLISH TRAINING GROUP (RM)   \n",
       "99  1000470102       ENGLISH TRAINING GROUP (RM)   \n",
       "\n",
       "                                                about    user_id  \\\n",
       "0   روزنامه صبح\"وقایع استان\"مرجع رسمی اخبار استان ...  173318782   \n",
       "1   All the content of the channel is sent solely ...  541239771   \n",
       "2   لینک گروه https://t.me/joinchat/KSVK9-_7yyI2OW...  362541001   \n",
       "3   مرکز پخش ابزارآلات ادونEDON   صنعتی،کشاورزی و ...  119944726   \n",
       "4   پايگاه اطلاع رسانی دفترحفظ و نشر آثار حضرت آیت...  152638140   \n",
       "..                                                ...        ...   \n",
       "95  اساتید گروه:   سرابی، و کشاورز -ناباروری و ناز...  456371040   \n",
       "96  اساتید گروه:   سرابی، و کشاورز -ناباروری و ناز...  111914681   \n",
       "97  پارچه رادمرد عرضه کننده جدیدترین پارچه های مجل...  462105171   \n",
       "98  Our GROUP LINK    https://t.me/joinchat/DeF5xj...  166581229   \n",
       "99  Our GROUP LINK    https://t.me/joinchat/DeF5xj...  628989972   \n",
       "\n",
       "                       post  \n",
       "0   CHANNEL_EXTRACTRD_ADMIN  \n",
       "1            CURRENT_MEMBER  \n",
       "2            CHANNEL_MEMBER  \n",
       "3   CHANNEL_EXTRACTRD_ADMIN  \n",
       "4            CHANNEL_MEMBER  \n",
       "..                      ...  \n",
       "95           CURRENT_MEMBER  \n",
       "96           CURRENT_MEMBER  \n",
       "97  CHANNEL_EXTRACTRD_ADMIN  \n",
       "98           CURRENT_MEMBER  \n",
       "99           CURRENT_MEMBER  \n",
       "\n",
       "[100 rows x 5 columns]"
      ]
     },
     "execution_count": 16,
     "metadata": {},
     "output_type": "execute_result"
    }
   ],
   "source": [
    "sub_merged"
   ]
  },
  {
   "cell_type": "code",
   "execution_count": 17,
   "metadata": {},
   "outputs": [],
   "source": [
    "def convert_pinglish_to_persian(text):\n",
    "    if isinstance(text, str) and any(char.isalpha() for char in text):\n",
    "        return f2p(text)\n",
    "    return text\n"
   ]
  },
  {
   "cell_type": "code",
   "execution_count": 18,
   "metadata": {},
   "outputs": [
    {
     "name": "stderr",
     "output_type": "stream",
     "text": [
      "/var/folders/7y/lh6z9mgj7w190j6vw0pfrdbm0000gn/T/ipykernel_6177/2397714948.py:2: SettingWithCopyWarning: \n",
      "A value is trying to be set on a copy of a slice from a DataFrame.\n",
      "Try using .loc[row_indexer,col_indexer] = value instead\n",
      "\n",
      "See the caveats in the documentation: https://pandas.pydata.org/pandas-docs/stable/user_guide/indexing.html#returning-a-view-versus-a-copy\n",
      "  sub_merged['persion'] = sub_merged['peer_name'].apply(convert_pinglish_to_persian)\n"
     ]
    }
   ],
   "source": [
    "# Assuming your DataFrame is named \"df\"\n",
    "sub_merged['persion'] = sub_merged['peer_name'].apply(convert_pinglish_to_persian)\n"
   ]
  },
  {
   "cell_type": "code",
   "execution_count": 19,
   "metadata": {},
   "outputs": [],
   "source": [
    "sub = merged_df.iloc[100:200]"
   ]
  },
  {
   "cell_type": "code",
   "execution_count": 20,
   "metadata": {},
   "outputs": [],
   "source": [
    "contains_english = merged_df[\"peer_name\"].str.contains('[A-Za-z]', na=False)\n"
   ]
  },
  {
   "cell_type": "code",
   "execution_count": 21,
   "metadata": {},
   "outputs": [],
   "source": [
    "count_english_rows = contains_english.sum()\n"
   ]
  },
  {
   "cell_type": "code",
   "execution_count": 22,
   "metadata": {},
   "outputs": [
    {
     "data": {
      "text/plain": [
       "103569"
      ]
     },
     "execution_count": 22,
     "metadata": {},
     "output_type": "execute_result"
    }
   ],
   "source": [
    "count_english_rows"
   ]
  },
  {
   "cell_type": "code",
   "execution_count": 23,
   "metadata": {},
   "outputs": [
    {
     "name": "stdout",
     "output_type": "stream",
     "text": [
      "اینستاگرا\n",
      "اینستاگرا\n",
      "اینستاگرا\n",
      "اینستاگرا\n",
      "اینستاگرا\n",
      "اینستاگرا\n",
      "بسم‌الله الرحمن الرحیم ارتباط ادمین کانال اعلام\n",
      "بسم‌الله الرحمن الرحیم ارتباط ادمین کانال اعلام\n",
      "بسم‌الله الرحمن الرحیم ارتباط ادمین کانال اعلام\n",
      "کانال شهر اولین معرف رویداد جاذبه نیازمندی‌های شهر تبریز\n",
      "جک عاشقانهمد زیبایی سرگرم خبر جهت تبلیغات کانال خوب با دی ارتباط بود#باش تبادل ندار\n",
      "خون دررگ ماست خامنه رهبر ماست دوستان بزرگوار ادد ربات ممنوع لطفا رعایت\n",
      "خون دررگ ماست خامنه رهبر ماست دوستان بزرگوار ادد ربات ممنوع لطفا رعایت\n",
      "خون دررگ ماست خامنه رهبر ماست دوستان بزرگوار ادد ربات ممنوع لطفا رعایت\n",
      "خون دررگ ماست خامنه رهبر ماست دوستان بزرگوار ادد ربات ممنوع لطفا رعایت\n",
      "خون دررگ ماست خامنه رهبر ماست دوستان بزرگوار ادد ربات ممنوع لطفا رعایت\n",
      "خون دررگ ماست خامنه رهبر ماست دوستان بزرگوار ادد ربات ممنوع لطفا رعایت\n",
      "خون دررگ ماست خامنه رهبر ماست دوستان بزرگوار ادد ربات ممنوع لطفا رعایت\n",
      "خون دررگ ماست خامنه رهبر ماست دوستان بزرگوار ادد ربات ممنوع لطفا رعایت\n",
      "خون دررگ ماست خامنه رهبر ماست دوستان بزرگوار ادد ربات ممنوع لطفا رعایت\n",
      "خون دررگ ماست خامنه رهبر ماست دوستان بزرگوار ادد ربات ممنوع لطفا رعایت\n",
      "خون دررگ ماست خامنه رهبر ماست دوستان بزرگوار ادد ربات ممنوع لطفا رعایت\n",
      "لینک کانال تست استاد دلسوز لینک کانال فیزیک مهندس نماز لینک کانال جزوات استاد دلسوز\n",
      "لینک کانال تست استاد دلسوز لینک کانال فیزیک مهندس نماز لینک کانال جزوات استاد دلسوز\n",
      "لینک کانال تست استاد دلسوز لینک کانال فیزیک مهندس نماز لینک کانال جزوات استاد دلسوز\n",
      "لینک کانال تست استاد دلسوز لینک کانال فیزیک مهندس نماز لینک کانال جزوات استاد دلسوز\n",
      "لینک کانال تست استاد دلسوز لینک کانال فیزیک مهندس نماز لینک کانال جزوات استاد دلسوز\n",
      "لینک کانال تست استاد دلسوز لینک کانال فیزیک مهندس نماز لینک کانال جزوات استاد دلسوز\n",
      "لینک کانال تست استاد دلسوز لینک کانال فیزیک مهندس نماز لینک کانال جزوات استاد دلسوز\n",
      "لینک کانال تست استاد دلسوز لینک کانال فیزیک مهندس نماز لینک کانال جزوات استاد دلسوز\n",
      "لینک کانال تست استاد دلسوز لینک کانال فیزیک مهندس نماز لینک کانال جزوات استاد دلسوز\n",
      "لینک کانال تست استاد دلسوز لینک کانال فیزیک مهندس نماز لینک کانال جزوات استاد دلسوز\n",
      "لینک کانال تست استاد دلسوز لینک کانال فیزیک مهندس نماز لینک کانال جزوات استاد دلسوز\n",
      "لینک کانال تست استاد دلسوز لینک کانال فیزیک مهندس نماز لینک کانال جزوات استاد دلسوز\n",
      "لینک کانال تست استاد دلسوز لینک کانال فیزیک مهندس نماز لینک کانال جزوات استاد دلسوز\n",
      "لینک کانال تست استاد دلسوز لینک کانال فیزیک مهندس نماز لینک کانال جزوات استاد دلسوز\n",
      "لینک کانال تست استاد دلسوز لینک کانال فیزیک مهندس نماز لینک کانال جزوات استاد دلسوز\n",
      "لینک کانال تست استاد دلسوز لینک کانال فیزیک مهندس نماز لینک کانال جزوات استاد دلسوز\n",
      "درخواست داخل گروه ادمین تعرفه تبلیغات تبلیغ رایگان داشت#دار گروه اینستاگرا\n",
      "کانال رسم معین تلگرام صفحه رسم فیسبوک اکانت رسم اینستاگرا\n",
      "گروه مذهب یالثارات الحسینع قوانین گروه مطالب غیرمرتبط ممنوع مطالب غیراخلاقی ممنوع چت اکیداممنوع هرگونه لعن وتوهین ممنوع تمسخرومزاحمت ممنوع تبلیغ مذهب ممنوع تبلیغ لینک گروه ممنوع رفتن خواهر ممنوع رعایتحذف\n",
      "گروه مذهب یالثارات الحسینع قوانین گروه مطالب غیرمرتبط ممنوع مطالب غیراخلاقی ممنوع چت اکیداممنوع هرگونه لعن وتوهین ممنوع تمسخرومزاحمت ممنوع تبلیغ مذهب ممنوع تبلیغ لینک گروه ممنوع رفتن خواهر ممنوع رعایتحذف\n",
      "گروه مذهب یالثارات الحسینع قوانین گروه مطالب غیرمرتبط ممنوع مطالب غیراخلاقی ممنوع چت اکیداممنوع هرگونه لعن وتوهین ممنوع تمسخرومزاحمت ممنوع تبلیغ مذهب ممنوع تبلیغ لینک گروه ممنوع رفتن خواهر ممنوع رعایتحذف\n",
      "گروه مذهب یالثارات الحسینع قوانین گروه مطالب غیرمرتبط ممنوع مطالب غیراخلاقی ممنوع چت اکیداممنوع هرگونه لعن وتوهین ممنوع تمسخرومزاحمت ممنوع تبلیغ مذهب ممنوع تبلیغ لینک گروه ممنوع رفتن خواهر ممنوع رعایتحذف\n",
      "گروه مذهب یالثارات الحسینع قوانین گروه مطالب غیرمرتبط ممنوع مطالب غیراخلاقی ممنوع چت اکیداممنوع هرگونه لعن وتوهین ممنوع تمسخرومزاحمت ممنوع تبلیغ مذهب ممنوع تبلیغ لینک گروه ممنوع رفتن خواهر ممنوع رعایتحذف\n",
      "گروه مذهب یالثارات الحسینع قوانین گروه مطالب غیرمرتبط ممنوع مطالب غیراخلاقی ممنوع چت اکیداممنوع هرگونه لعن وتوهین ممنوع تمسخرومزاحمت ممنوع تبلیغ مذهب ممنوع تبلیغ لینک گروه ممنوع رفتن خواهر ممنوع رعایتحذف\n",
      "گروه مذهب یالثارات الحسینع قوانین گروه مطالب غیرمرتبط ممنوع مطالب غیراخلاقی ممنوع چت اکیداممنوع هرگونه لعن وتوهین ممنوع تمسخرومزاحمت ممنوع تبلیغ مذهب ممنوع تبلیغ لینک گروه ممنوع رفتن خواهر ممنوع رعایتحذف\n",
      "گروه مذهب یالثارات الحسینع قوانین گروه مطالب غیرمرتبط ممنوع مطالب غیراخلاقی ممنوع چت اکیداممنوع هرگونه لعن وتوهین ممنوع تمسخرومزاحمت ممنوع تبلیغ مذهب ممنوع تبلیغ لینک گروه ممنوع رفتن خواهر ممنوع رعایتحذف\n",
      "گروه مذهب یالثارات الحسینع قوانین گروه مطالب غیرمرتبط ممنوع مطالب غیراخلاقی ممنوع چت اکیداممنوع هرگونه لعن وتوهین ممنوع تمسخرومزاحمت ممنوع تبلیغ مذهب ممنوع تبلیغ لینک گروه ممنوع رفتن خواهر ممنوع رعایتحذف\n",
      "گروه مذهب یالثارات الحسینع قوانین گروه مطالب غیرمرتبط ممنوع مطالب غیراخلاقی ممنوع چت اکیداممنوع هرگونه لعن وتوهین ممنوع تمسخرومزاحمت ممنوع تبلیغ مذهب ممنوع تبلیغ لینک گروه ممنوع رفتن خواهر ممنوع رعایتحذف\n",
      "جهت سفارش درسجنت باد تقاطع اتوبان نیایش برج تی طبقه\n",
      "قوانین گروه رعایت عضویت گروه گفتگو لینک استفاده قرار متنی بجز تحلیل سیگنال گروه ممنوع ربات اطلاعات فارکس ربات ادمین\n",
      "قوانین گروه رعایت عضویت گروه گفتگو لینک استفاده قرار متنی بجز تحلیل سیگنال گروه ممنوع ربات اطلاعات فارکس ربات ادمین\n",
      "قوانین گروه رعایت عضویت گروه گفتگو لینک استفاده قرار متنی بجز تحلیل سیگنال گروه ممنوع ربات اطلاعات فارکس ربات ادمین\n",
      "قوانین گروه رعایت عضویت گروه گفتگو لینک استفاده قرار متنی بجز تحلیل سیگنال گروه ممنوع ربات اطلاعات فارکس ربات ادمین\n",
      "قوانین گروه رعایت عضویت گروه گفتگو لینک استفاده قرار متنی بجز تحلیل سیگنال گروه ممنوع ربات اطلاعات فارکس ربات ادمین\n",
      "قوانین گروه رعایت عضویت گروه گفتگو لینک استفاده قرار متنی بجز تحلیل سیگنال گروه ممنوع ربات اطلاعات فارکس ربات ادمین\n",
      "قوانین گروه رعایت عضویت گروه گفتگو لینک استفاده قرار متنی بجز تحلیل سیگنال گروه ممنوع ربات اطلاعات فارکس ربات ادمین\n",
      "ارسال سوژه تبلیغات اینستاگرام پیج منصور قیامت\n",
      "ارسال سوژه تبلیغات اینستاگرام پیج منصور قیامت\n",
      "ارسال سوژه تبلیغات اینستاگرام پیج منصور قیامت\n",
      "\n",
      "\n",
      "\n",
      "\n",
      "\n",
      "\n",
      "\n",
      "\n",
      "\n",
      "\n",
      "\n",
      "\n",
      "\n",
      "\n",
      "\n",
      "\n",
      "\n",
      "\n",
      "\n",
      "\n",
      "\n",
      "\n",
      "\n",
      "\n",
      "\n",
      "\n",
      "\n",
      "\n",
      "\n",
      "\n",
      "\n",
      "\n",
      "\n",
      "\n",
      "\n",
      "\n",
      "\n",
      "\n",
      "\n"
     ]
    }
   ],
   "source": [
    "from preprocess import clean_up_pipeline\n",
    "for i, row in sub.iterrows():\n",
    "    print(clean_up_pipeline(row[\"about\"]))\n",
    "    "
   ]
  },
  {
   "cell_type": "code",
   "execution_count": 24,
   "metadata": {},
   "outputs": [
    {
     "data": {
      "text/plain": [
       "'Our GROUP LINK    https://t.me/joinchat/DeF5xjuh9lYii45vR5i2aQ  -------------------------  https://www.instagram.com/rnd474 اینستاگرام    Our Channel link:       @idiomchannel       @EngVidPod'"
      ]
     },
     "execution_count": 24,
     "metadata": {},
     "output_type": "execute_result"
    }
   ],
   "source": [
    "sub.iloc[1]['about']"
   ]
  },
  {
   "cell_type": "code",
   "execution_count": null,
   "metadata": {},
   "outputs": [],
   "source": []
  }
 ],
 "metadata": {
  "kernelspec": {
   "display_name": "Python 3",
   "language": "python",
   "name": "python3"
  },
  "language_info": {
   "codemirror_mode": {
    "name": "ipython",
    "version": 3
   },
   "file_extension": ".py",
   "mimetype": "text/x-python",
   "name": "python",
   "nbconvert_exporter": "python",
   "pygments_lexer": "ipython3",
   "version": "3.9.13"
  }
 },
 "nbformat": 4,
 "nbformat_minor": 4
}
