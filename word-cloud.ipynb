{
 "cells": [
  {
   "cell_type": "code",
   "execution_count": 4,
   "metadata": {},
   "outputs": [],
   "source": [
    "import matplotlib.pyplot as plt\n",
    "from wordcloud import WordCloud\n",
    "from collections import Counter\n",
    "import arabic_reshaper\n",
    "from bidi.algorithm import get_display\n",
    "import hazm\n",
    "import pandas as pd "
   ]
  },
  {
   "cell_type": "code",
   "execution_count": 29,
   "metadata": {},
   "outputs": [],
   "source": [
    "df = pd.read_csv(\"result.csv\")"
   ]
  },
  {
   "cell_type": "code",
   "execution_count": 31,
   "metadata": {},
   "outputs": [],
   "source": [
    "# Function to find the most frequent word in a text\n",
    "def most_frequent_word(text):\n",
    "    words = text.split()\n",
    "    if not words:\n",
    "        return \"N/A\"  # Replace \"N/A\" with a suitable default value\n",
    "    word_count = {}\n",
    "    for word in words:\n",
    "        word_count[word] = word_count.get(word, 0) + 1\n",
    "    most_common_word = max(word_count, key=word_count.get)\n",
    "    return most_common_word\n",
    "# Apply the function to the 'bow' column and save the result in a new column\n",
    "df['most_frequent_word'] = df['bow'].apply(most_frequent_word)\n",
    "\n",
    "# # Display the DataFrame with the new column\n",
    "# print(df)"
   ]
  },
  {
   "cell_type": "code",
   "execution_count": 33,
   "metadata": {},
   "outputs": [
    {
     "data": {
      "text/html": [
       "<div>\n",
       "<style scoped>\n",
       "    .dataframe tbody tr th:only-of-type {\n",
       "        vertical-align: middle;\n",
       "    }\n",
       "\n",
       "    .dataframe tbody tr th {\n",
       "        vertical-align: top;\n",
       "    }\n",
       "\n",
       "    .dataframe thead th {\n",
       "        text-align: right;\n",
       "    }\n",
       "</style>\n",
       "<table border=\"1\" class=\"dataframe\">\n",
       "  <thead>\n",
       "    <tr style=\"text-align: right;\">\n",
       "      <th></th>\n",
       "      <th>group_id</th>\n",
       "      <th>peer_name</th>\n",
       "      <th>about</th>\n",
       "      <th>persion</th>\n",
       "      <th>bow_name</th>\n",
       "      <th>bow_about</th>\n",
       "      <th>bow</th>\n",
       "      <th>most_frequent_word</th>\n",
       "    </tr>\n",
       "  </thead>\n",
       "  <tbody>\n",
       "    <tr>\n",
       "      <th>0</th>\n",
       "      <td>2078972966</td>\n",
       "      <td>آموزش مهارت های ارتباطی</td>\n",
       "      <td>سلام .من علیرضا کرمی هستم  مربی و مدرس دوره‌ها...</td>\n",
       "      <td>آموزش مهارت های ارتباطی</td>\n",
       "      <td>موز مهارت ارتباط</td>\n",
       "      <td>سلام علیرضا کرمی #هست مربی مدرس دوره ارتباط مو...</td>\n",
       "      <td>موز مهارت ارتباط سلام علیرضا کرمی #هست مربی مد...</td>\n",
       "      <td>ارتباط</td>\n",
       "    </tr>\n",
       "    <tr>\n",
       "      <th>1</th>\n",
       "      <td>2041783709</td>\n",
       "      <td>مستر کنکور 97(استادمددی)</td>\n",
       "      <td>? آقای خاص مشاوره و برنامه ریزی کنکور ? ?مبتکر...</td>\n",
       "      <td>مستر کنکور 97 استادمددی</td>\n",
       "      <td>مس کنکور استادمددی</td>\n",
       "      <td>قای مشاوره برنامه‌ریزی کنکور مبتکر برنامه‌ریزی...</td>\n",
       "      <td>مس کنکور استادمددی قای مشاوره برنامه‌ریزی کنکو...</td>\n",
       "      <td>کنکور</td>\n",
       "    </tr>\n",
       "    <tr>\n",
       "      <th>2</th>\n",
       "      <td>1876162099</td>\n",
       "      <td>ناصر خان حجازی</td>\n",
       "      <td>تنها کانال فعال تلگرامي یادبودناصرخان حجازی✌✋ ...</td>\n",
       "      <td>ناصر خان حجازی</td>\n",
       "      <td>ناصر خان حجاز</td>\n",
       "      <td>کانال فعال تلگرام یادبودناصرخان حجاز عکس وزندگ...</td>\n",
       "      <td>ناصر خان حجاز کانال فعال تلگرام یادبودناصرخان ...</td>\n",
       "      <td>حجاز</td>\n",
       "    </tr>\n",
       "    <tr>\n",
       "      <th>3</th>\n",
       "      <td>1854882373</td>\n",
       "      <td>Pishgoo</td>\n",
       "      <td>? فال☕دعا\\#طلسم\\# کارت\\#جزوه\\#دعا طلسم\\#مهره م...</td>\n",
       "      <td>پیشگو</td>\n",
       "      <td>پیشگو</td>\n",
       "      <td>فالدعاطلسم کارتجزوهدعا طلسممهره مارنعل اسباستخ...</td>\n",
       "      <td>پیشگو فالدعاطلسم کارتجزوهدعا طلسممهره مارنعل ا...</td>\n",
       "      <td>پیشگو</td>\n",
       "    </tr>\n",
       "    <tr>\n",
       "      <th>4</th>\n",
       "      <td>1523892810</td>\n",
       "      <td>بازارچه ملکان</td>\n",
       "      <td>?سیمساری آنلاین ملکان?                        ...</td>\n",
       "      <td>بازارچه ملکان</td>\n",
       "      <td>بازارچه ملک</td>\n",
       "      <td>سیمساری نلاین ملک ارتباط رایگان هرگونه لوازم د...</td>\n",
       "      <td>بازارچه ملک سیمساری نلاین ملک ارتباط رایگان هر...</td>\n",
       "      <td>ملک</td>\n",
       "    </tr>\n",
       "  </tbody>\n",
       "</table>\n",
       "</div>"
      ],
      "text/plain": [
       "     group_id                 peer_name  \\\n",
       "0  2078972966   آموزش مهارت های ارتباطی   \n",
       "1  2041783709  مستر کنکور 97(استادمددی)   \n",
       "2  1876162099            ناصر خان حجازی   \n",
       "3  1854882373                   Pishgoo   \n",
       "4  1523892810             بازارچه ملکان   \n",
       "\n",
       "                                               about                  persion  \\\n",
       "0  سلام .من علیرضا کرمی هستم  مربی و مدرس دوره‌ها...  آموزش مهارت های ارتباطی   \n",
       "1  ? آقای خاص مشاوره و برنامه ریزی کنکور ? ?مبتکر...  مستر کنکور 97 استادمددی   \n",
       "2  تنها کانال فعال تلگرامي یادبودناصرخان حجازی✌✋ ...           ناصر خان حجازی   \n",
       "3  ? فال☕دعا\\#طلسم\\# کارت\\#جزوه\\#دعا طلسم\\#مهره م...                    پیشگو   \n",
       "4  ?سیمساری آنلاین ملکان?                        ...            بازارچه ملکان   \n",
       "\n",
       "             bow_name                                          bow_about  \\\n",
       "0    موز مهارت ارتباط  سلام علیرضا کرمی #هست مربی مدرس دوره ارتباط مو...   \n",
       "1  مس کنکور استادمددی  قای مشاوره برنامه‌ریزی کنکور مبتکر برنامه‌ریزی...   \n",
       "2       ناصر خان حجاز  کانال فعال تلگرام یادبودناصرخان حجاز عکس وزندگ...   \n",
       "3               پیشگو  فالدعاطلسم کارتجزوهدعا طلسممهره مارنعل اسباستخ...   \n",
       "4         بازارچه ملک  سیمساری نلاین ملک ارتباط رایگان هرگونه لوازم د...   \n",
       "\n",
       "                                                 bow most_frequent_word  \n",
       "0  موز مهارت ارتباط سلام علیرضا کرمی #هست مربی مد...             ارتباط  \n",
       "1  مس کنکور استادمددی قای مشاوره برنامه‌ریزی کنکو...              کنکور  \n",
       "2  ناصر خان حجاز کانال فعال تلگرام یادبودناصرخان ...               حجاز  \n",
       "3  پیشگو فالدعاطلسم کارتجزوهدعا طلسممهره مارنعل ا...              پیشگو  \n",
       "4  بازارچه ملک سیمساری نلاین ملک ارتباط رایگان هر...                ملک  "
      ]
     },
     "execution_count": 33,
     "metadata": {},
     "output_type": "execute_result"
    }
   ],
   "source": [
    "df.head()"
   ]
  },
  {
   "cell_type": "code",
   "execution_count": 34,
   "metadata": {},
   "outputs": [
    {
     "data": {
      "text/plain": [
       "'مس کنکور استادمددی قای مشاوره برنامه\\u200cریزی کنکور مبتکر برنامه\\u200cریزی کایزن پرمخاطب مشاور همایش کنکور مرد انگیزه کنکور ایران استادمددی مشاوره برنامه\\u200cریزی جزوات موزشی ارتباط استادمددی'"
      ]
     },
     "execution_count": 34,
     "metadata": {},
     "output_type": "execute_result"
    }
   ],
   "source": [
    "df[\"bow\"].iloc[1]"
   ]
  },
  {
   "cell_type": "code",
   "execution_count": null,
   "metadata": {},
   "outputs": [],
   "source": []
  },
  {
   "cell_type": "code",
   "execution_count": null,
   "metadata": {},
   "outputs": [],
   "source": []
  }
 ],
 "metadata": {
  "kernelspec": {
   "display_name": "Python 3",
   "language": "python",
   "name": "python3"
  },
  "language_info": {
   "codemirror_mode": {
    "name": "ipython",
    "version": 3
   },
   "file_extension": ".py",
   "mimetype": "text/x-python",
   "name": "python",
   "nbconvert_exporter": "python",
   "pygments_lexer": "ipython3",
   "version": "3.7.6"
  }
 },
 "nbformat": 4,
 "nbformat_minor": 4
}
